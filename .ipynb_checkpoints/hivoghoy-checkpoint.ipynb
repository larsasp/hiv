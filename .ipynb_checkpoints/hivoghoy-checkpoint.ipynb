{
 "cells": [
  {
   "cell_type": "code",
   "execution_count": 1,
   "metadata": {
    "collapsed": true
   },
   "outputs": [],
   "source": [
    "import numpy as np\n",
    "import pandas as pd\n",
    "import matplotlib.pyplot as plt\n",
    "plt.style.use('seaborn-notebook')\n",
    "#plt.style.use('ggplot')\n",
    "#plt.style.use('fivethirtyeight')\n",
    "import seaborn as sns\n",
    "import math\n",
    "import gc\n",
    "from mesa import Agent, Model\n",
    "from mesa.time import RandomActivation\n",
    "from mesa.time import SimultaneousActivation\n",
    "from mesa.datacollection import DataCollector\n",
    "import random\n",
    "\n",
    "%matplotlib inline"
   ]
  },
  {
   "cell_type": "markdown",
   "metadata": {},
   "source": [
    "# ABM of Briggs' HIV/AIDS model\n",
    "###### -> Main difference from state transition model: first order variability (STM is static, ABM is dynamic). We reduce first order variability (simulation noise) by increasing number of Monte Carlo simulations.\n",
    "- four competing health states A, B, C, D\n",
    "- per cycle probability of landing in each given below\n",
    "- from each state, the transition probabilities are multinomial (summing to 1, arising from same set)"
   ]
  },
  {
   "cell_type": "code",
   "execution_count": 2,
   "metadata": {},
   "outputs": [],
   "source": [
    "#from hivoghoi_param import *\n",
    "# probabilistic \n",
    "from hivoghoi_prob_param import *"
   ]
  },
  {
   "cell_type": "markdown",
   "metadata": {},
   "source": [
    "- need the model to create a list of how many agents land in each state per cycle"
   ]
  },
  {
   "cell_type": "markdown",
   "metadata": {},
   "source": [
    "## Set up the possible transitions for an Agent\n",
    "- starts in state A in cycle 0\n",
    "- treat the observed transition probabilites as (estimates of) true population probabilities "
   ]
  },
  {
   "cell_type": "code",
   "execution_count": 3,
   "metadata": {
    "collapsed": true
   },
   "outputs": [],
   "source": [
    "from mesa import Agent, Model\n",
    "\n",
    "class Person(Agent):\n",
    "    \"\"\"An agent\"\"\"\n",
    "    def __init__(self, unique_id, model):\n",
    "        super().__init__(unique_id, model)\n",
    "        self.A = 1\n",
    "        self.B = 0\n",
    "        self.C = 0\n",
    "        self.D = 0\n",
    "        self.cycle = 0\n",
    "    \n",
    "    def step(self):\n",
    "        if self.A == 1:\n",
    "            if a0(s)[1]==1:\n",
    "                self.B += 1\n",
    "                self.A -= 1\n",
    "            elif a0(s)[2]==1:\n",
    "                self.C += 1\n",
    "                self.A -= 1\n",
    "            elif a0(s)[3]==1:\n",
    "                self.D += 1\n",
    "                self.A -= 1\n",
    "            else:\n",
    "                self.A +=0\n",
    "                \n",
    "        if self.B == 1:\n",
    "            if b0(s)[1]==1:\n",
    "                self.C += 1\n",
    "                self.B -= 1\n",
    "            elif b0(s)[2]==1:\n",
    "                self.D += 1\n",
    "                self.B -= 1\n",
    "            else:\n",
    "                self.B += 0\n",
    "\n",
    "                \n",
    "        if self.C == 1:\n",
    "            if c0(s)[1] == 1:\n",
    "                self.D += 1\n",
    "                self.C -= 1\n",
    "            else:\n",
    "                self.C += 0\n",
    "                \n",
    "        if self.D == 1:\n",
    "            self.D += 0\n",
    "        \n",
    "        self.cycle+=1"
   ]
  },
  {
   "cell_type": "code",
   "execution_count": 4,
   "metadata": {
    "collapsed": true
   },
   "outputs": [],
   "source": [
    "def trace_a(model):\n",
    "    agent_a = [agent.A for agent in model.schedule.agents]\n",
    "    x = sum(agent_a)\n",
    "    N = model.num_agents\n",
    "    B = x / N\n",
    "    return B\n",
    "\n",
    "def trace_b(model):\n",
    "    agent_b = [agent.B for agent in model.schedule.agents]\n",
    "    x = sum(agent_b)\n",
    "    N = model.num_agents\n",
    "    B = x / N\n",
    "    return B\n",
    "\n",
    "def trace_c(model):\n",
    "    agent_c = [agent.C for agent in model.schedule.agents]\n",
    "    x = sum(agent_c)\n",
    "    N = model.num_agents\n",
    "    B = x / N\n",
    "    return B\n",
    "\n",
    "def trace_d(model):\n",
    "    agent_d = [agent.D for agent in model.schedule.agents]\n",
    "    x = sum(agent_d)\n",
    "    N = model.num_agents\n",
    "    B = x / N\n",
    "    return B"
   ]
  },
  {
   "cell_type": "markdown",
   "metadata": {},
   "source": [
    "## Define the model\n",
    "- what should the model collect per step? Number of agents in each state\n",
    "- how should the agents enter the model? Randomly vs simultaneously (important for infectious diseases, not important otherwise?)"
   ]
  },
  {
   "cell_type": "code",
   "execution_count": 5,
   "metadata": {
    "collapsed": true
   },
   "outputs": [],
   "source": [
    "class hiv(Model):\n",
    "    \"\"\"A model with some number of agents.\"\"\"\n",
    "    def __init__(self, N, seed):\n",
    "        super().__init__(seed)\n",
    "        self.num_agents = N\n",
    "        self.cycle  = 0\n",
    "        self.schedule = RandomActivation(self)\n",
    "        \n",
    "        # Create agents\n",
    "        for i in range(self.num_agents):\n",
    "            a = Person(i, self)\n",
    "            self.schedule.add(a)    \n",
    "        # Store data after each step\n",
    "        self.datacollector = DataCollector(model_reporters=\n",
    "                                           {\"State_A\": trace_a,\n",
    "                                            \"State_B\": trace_b,\n",
    "                                            \"State_C\": trace_c,\n",
    "                                            \"State_D\": trace_d}\n",
    "                                           ,\n",
    "                                           #agent_reporters=\n",
    "                                           #{\"State_A\": lambda a: a.A,\n",
    "                                           # \"State_B\": lambda a: a.B,\n",
    "                                           # \"State_C\": lambda a: a.C,\n",
    "                                           # \"State_D\": lambda a: a.D}\n",
    "                                          )\n",
    "        \n",
    "    def step(self):\n",
    "        # store data  \n",
    "        self.datacollector.collect(self)\n",
    "        #advnace a step\n",
    "        self.schedule.step()\n"
   ]
  },
  {
   "cell_type": "code",
   "execution_count": 6,
   "metadata": {},
   "outputs": [],
   "source": [
    "#%%time\n",
    "#model = hiv(10000, seed=1234)\n",
    "#s = 5\n",
    "#for i in range(21):\n",
    "#    model.step()"
   ]
  },
  {
   "cell_type": "code",
   "execution_count": 7,
   "metadata": {
    "collapsed": true
   },
   "outputs": [],
   "source": [
    "results = []"
   ]
  },
  {
   "cell_type": "code",
   "execution_count": 8,
   "metadata": {},
   "outputs": [
    {
     "name": "stdout",
     "output_type": "stream",
     "text": [
      "Wall time: 5min 37s\n"
     ]
    }
   ],
   "source": [
    "%%time\n",
    "for j in range(1000): # j loops the model from 0 - specified end\n",
    "    s = j# s is index for stored parameter sets, with new model run, new parameter set is used\n",
    "    model = hiv(N = 1000 , seed=1234) # N is number of individuals to simulate\n",
    "    for i in range(21): # i is number of cycles in the model\n",
    "        model.step() # advance the model\n",
    "    end = model.datacollector.get_model_vars_dataframe() # retrieve model variables\n",
    "    life_years = sum(end.State_A + end.State_B + end.State_C) # sum individuals alive per run, life-years\n",
    "    results.append(life_years) # add life-years to list\n",
    "    "
   ]
  },
  {
   "cell_type": "code",
   "execution_count": 10,
   "metadata": {},
   "outputs": [],
   "source": [
    "#results"
   ]
  },
  {
   "cell_type": "code",
   "execution_count": null,
   "metadata": {},
   "outputs": [],
   "source": [
    "model_trace = model.datacollector.get_model_vars_dataframe()\n",
    "#model_trace"
   ]
  },
  {
   "cell_type": "code",
   "execution_count": null,
   "metadata": {
    "collapsed": true
   },
   "outputs": [],
   "source": [
    "life_years = sum(model_trace.State_A + model_trace.State_B + model_trace.State_C)"
   ]
  },
  {
   "cell_type": "code",
   "execution_count": null,
   "metadata": {},
   "outputs": [],
   "source": [
    "life_years"
   ]
  },
  {
   "cell_type": "code",
   "execution_count": null,
   "metadata": {
    "collapsed": true
   },
   "outputs": [],
   "source": []
  },
  {
   "cell_type": "code",
   "execution_count": null,
   "metadata": {},
   "outputs": [],
   "source": [
    "ax = model_trace.plot()\n",
    "ax.set_xlabel('Years')\n",
    "ax.set_ylabel('% in state')\n",
    "ax.set_title('HIV/AIDS model')\n",
    "# plt.savefig('M:\\pc\\Desktop\\plot.png', dpi = 400)"
   ]
  },
  {
   "cell_type": "code",
   "execution_count": null,
   "metadata": {},
   "outputs": [],
   "source": [
    "psa = pd.DataFrame([values])\n",
    "psa['life-years'] = life_years\n",
    "psa"
   ]
  },
  {
   "cell_type": "code",
   "execution_count": null,
   "metadata": {
    "collapsed": true
   },
   "outputs": [],
   "source": [
    "oo = pd.DataFrame(values)"
   ]
  },
  {
   "cell_type": "code",
   "execution_count": null,
   "metadata": {},
   "outputs": [],
   "source": [
    "oo"
   ]
  },
  {
   "cell_type": "code",
   "execution_count": null,
   "metadata": {
    "collapsed": true
   },
   "outputs": [],
   "source": []
  }
 ],
 "metadata": {
  "anaconda-cloud": {},
  "kernelspec": {
   "display_name": "Python [conda root]",
   "language": "python",
   "name": "conda-root-py"
  },
  "language_info": {
   "codemirror_mode": {
    "name": "ipython",
    "version": 3
   },
   "file_extension": ".py",
   "mimetype": "text/x-python",
   "name": "python",
   "nbconvert_exporter": "python",
   "pygments_lexer": "ipython3",
   "version": "3.5.3"
  }
 },
 "nbformat": 4,
 "nbformat_minor": 1
}
